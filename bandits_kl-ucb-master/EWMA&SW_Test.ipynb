{
 "cells": [
  {
   "cell_type": "code",
   "execution_count": 23,
   "outputs": [],
   "source": [
    "%reset -f\n",
    "import time\n",
    "import numpy as np\n",
    "import math\n",
    "import matplotlib.pyplot as plt\n",
    "import pickle\n",
    "%matplotlib inline"
   ],
   "metadata": {
    "collapsed": false,
    "pycharm": {
     "name": "#%%\n"
    }
   }
  },
  {
   "cell_type": "code",
   "execution_count": 24,
   "outputs": [
    {
     "name": "stdout",
     "output_type": "stream",
     "text": [
      "The autoreload extension is already loaded. To reload it, use:\n",
      "  %reload_ext autoreload\n"
     ]
    }
   ],
   "source": [
    "%load_ext autoreload\n",
    "%autoreload 2\n",
    "import kl_ucb_policy"
   ],
   "metadata": {
    "collapsed": false,
    "pycharm": {
     "name": "#%%\n"
    }
   }
  },
  {
   "cell_type": "code",
   "execution_count": 25,
   "outputs": [
    {
     "name": "stdout",
     "output_type": "stream",
     "text": [
      "Pi: [0.99 0.98 0.96 0.93 0.9  0.1  0.06 0.04]\n",
      "delta: [15.66 12.78 10.08  4.86  0.   18.   18.72 19.44]\n"
     ]
    }
   ],
   "source": [
    "#Parameters for EWMA&SW test\n",
    "p = np.array([.99, .98, .96, .93, .90, .10, .06, .04]) #Bernoulli Parameters\n",
    "# p = np.array([.95, .90, .80, .65, .45, .25, .15, .10])\n",
    "# p = np.array([.90, .80, .70, .55, .45, .35, .20, .10])\n",
    "rate = np.array([6, 9, 12, 18, 24, 36, 48, 54])\n",
    "tp = np.multiply(p,rate)\n",
    "\n",
    "K= p.shape[0] #Number of branches\n",
    "delta= ( np.ones(K)*np.max(tp) ) - tp\n",
    "\n",
    "T= 5000 #Time periods\n",
    "runs = 1 #Number of iterations\n",
    "\n",
    "print(\"Pi:\",p)\n",
    "print(\"delta:\",delta)"
   ],
   "metadata": {
    "collapsed": false,
    "pycharm": {
     "name": "#%%\n"
    }
   }
  },
  {
   "cell_type": "markdown",
   "source": [
    "## KL-UCB EWMA & SW"
   ],
   "metadata": {
    "collapsed": false,
    "pycharm": {
     "name": "#%% md\n"
    }
   }
  },
  {
   "cell_type": "code",
   "execution_count": 26,
   "outputs": [],
   "source": [
    "%%capture\n",
    "ewma = kl_ucb_policy.GORS_EWMA(K, rate, 500, 0.2) #Optimal Graphical OptimalRate Sampling\n",
    "total_rewards_list_ewma = np.zeros((runs, T))\n",
    "actions_list_ewma = []\n",
    "sw = kl_ucb_policy.GORS_SW(K, rate, 500) #Original KL UCB\n",
    "total_rewards_list_sw = np.zeros((runs, T))\n",
    "actions_list_sw = []\n",
    "start_time = time.time()\n",
    "\n",
    "for run in range(runs):\n",
    "    ewma.reset()\n",
    "    actions_ewma = np.zeros((K, T), dtype=np.int)\n",
    "    rewards_ewma = np.zeros((K, T), dtype=np.float)\n",
    "    sw.reset()\n",
    "    actions_sw = np.zeros((K, T), dtype=np.int)\n",
    "    rewards_sw = np.zeros((K, T), dtype=np.float)\n",
    "    for t in range(T):\n",
    "        # print('at time slot: ', t)\n",
    "        arm_ewma = ewma.select_next_arm()\n",
    "        actions_ewma[arm_ewma, t] = 1\n",
    "        rewards_ewma[arm_ewma, t] = np.random.binomial(1, p[arm_ewma]) * rate[arm_ewma]\n",
    "        ewma.update_state(arm_ewma, rewards_ewma[arm_ewma, t] / rate[arm_ewma])\n",
    "\n",
    "        arm_sw = sw.select_next_arm()\n",
    "        actions_sw[arm_sw, t] = 1\n",
    "        rewards_sw[arm_sw, t] = np.random.binomial(1, p[arm_sw]) * rate[arm_sw]\n",
    "        sw.update_state(arm_sw, rewards_sw[arm_sw, t] / rate[arm_sw])\n",
    "        # print('N is:',ewma.N)\n",
    "        # print('S is:',ewma.S)\n",
    "        # print('l is:',ewma.l)\n",
    "        # print('L is:',ewma.L)\n",
    "    cumulative_rewards_ewma = np.cumsum(rewards_ewma, axis=1) #Cumulative rewards of each arm according to time\n",
    "    total_rewards_ewma = np.sum(cumulative_rewards_ewma, axis=0) #Cumulative rewards of all arms according to time\n",
    "    total_rewards_list_ewma[run, :] = np.copy(total_rewards_ewma)\n",
    "    actions_list_ewma.append(np.copy(actions_ewma))\n",
    "\n",
    "    cumulative_rewards_sw = np.cumsum(rewards_sw, axis=1)\n",
    "    total_rewards_sw = np.sum(cumulative_rewards_sw, axis=0)\n",
    "    total_rewards_list_sw[run, :] = np.copy(total_rewards_sw)\n",
    "    actions_list_sw.append(np.copy(actions_sw))\n",
    "\n",
    "time_spent = time.time() - start_time"
   ],
   "metadata": {
    "collapsed": false,
    "pycharm": {
     "name": "#%%\n"
    }
   }
  },
  {
   "cell_type": "markdown",
   "source": [
    "## Results"
   ],
   "metadata": {
    "collapsed": false,
    "pycharm": {
     "name": "#%% md\n"
    }
   }
  },
  {
   "cell_type": "code",
   "execution_count": 27,
   "outputs": [
    {
     "name": "stdout",
     "output_type": "stream",
     "text": [
      "Time for KL-UCB (Newton), with T = 5000 , runs = 1 : 2.446556329727173 seconds\n"
     ]
    }
   ],
   "source": [
    "print(\"Time for KL-UCB (Newton), with T =\", T, \", runs =\", runs, \":\", (time_spent), \"seconds\")"
   ],
   "metadata": {
    "collapsed": false,
    "pycharm": {
     "name": "#%%\n"
    }
   }
  },
  {
   "cell_type": "markdown",
   "source": [],
   "metadata": {
    "collapsed": false,
    "pycharm": {
     "name": "#%% md\n"
    }
   }
  },
  {
   "cell_type": "code",
   "execution_count": 28,
   "outputs": [
    {
     "name": "stdout",
     "output_type": "stream",
     "text": [
      "t & Reward (total) G-ORS : 4999 106131.0\n",
      "t & Reward (total) KL-UCB : 4999 106371.0\n"
     ]
    }
   ],
   "source": [
    "mean_total_rewards_ewma = np.mean(total_rewards_list_ewma, axis=0)\n",
    "mean_total_rewards_sw = np.mean(total_rewards_list_sw, axis=0)\n",
    "print(\"t & Reward (total) G-ORS :\", t, mean_total_rewards_ewma[t])\n",
    "print(\"t & Reward (total) KL-UCB :\", t, mean_total_rewards_sw[t])"
   ],
   "metadata": {
    "collapsed": false,
    "pycharm": {
     "name": "#%%\n"
    }
   }
  },
  {
   "cell_type": "code",
   "execution_count": 29,
   "outputs": [
    {
     "data": {
      "text/plain": "<Figure size 864x576 with 1 Axes>",
      "image/png": "[encoded data removed]"
     },
     "metadata": {
      "needs_background": "light"
     },
     "output_type": "display_data"
    }
   ],
   "source": [
    "fig=plt.figure(figsize=(12,8))\n",
    "ax1 = fig.add_subplot(1,1,1)\n",
    "ax1.plot(mean_total_rewards_ewma[:], linestyle='-', label='Average total rewards of EWMA')\n",
    "ax1.plot(mean_total_rewards_sw[:], linestyle='-', label='Average total rewards of SW')\n",
    "ax1.legend(loc='best')\n",
    "plt.show()"
   ],
   "metadata": {
    "collapsed": false,
    "pycharm": {
     "name": "#%%\n"
    }
   }
  },
  {
   "cell_type": "code",
   "execution_count": 30,
   "outputs": [],
   "source": [
    "#Regrets calculation for EWMA\n",
    "total_action_ewma = np.zeros((K, T))\n",
    "for actions_ewma in actions_list_ewma:\n",
    "    total_action_ewma += np.cumsum(actions_ewma, axis=1) #The cumulative times of each arm to be selected\n",
    "total_action_ewma = total_action_ewma / runs\n",
    "regret_cumule_ewma = np.dot(delta, total_action_ewma[:, :]) # Cumulative regrets\n",
    "#Regrest calculation for Sliding Window\n",
    "total_action_sw = np.zeros((K, T))\n",
    "for actions_sw in actions_list_sw:\n",
    "    total_action_sw += np.cumsum(actions_sw, axis=1) #The cumulative times of each arm to be selected\n",
    "total_action_sw = total_action_sw / runs\n",
    "regret_cumule_klucb = np.dot(delta, total_action_sw[:, :]) # Cumulative regrets"
   ],
   "metadata": {
    "collapsed": false,
    "pycharm": {
     "name": "#%%\n"
    }
   }
  },
  {
   "cell_type": "markdown",
   "source": [
    "## Average cumulative regrets"
   ],
   "metadata": {
    "collapsed": false,
    "pycharm": {
     "name": "#%% md\n"
    }
   }
  },
  {
   "cell_type": "code",
   "execution_count": 35,
   "outputs": [
    {
     "data": {
      "text/plain": "<Figure size 864x576 with 1 Axes>",
      "image/png": "[encoded data removed]"
     },
     "metadata": {
      "needs_background": "light"
     },
     "output_type": "display_data"
    }
   ],
   "source": [
    "fig=plt.figure(figsize=(12,8))\n",
    "ax1 = fig.add_subplot(1,1,1)\n",
    "\n",
    "ax1.plot(regret_cumule_ewma[:], linestyle='-', label='EWMA')\n",
    "ax1.plot(regret_cumule_klucb[:],linestyle='-', label='SW')\n",
    "\n",
    "ax1.legend(loc='best')\n",
    "ax1.grid()\n",
    "ax1.set_title('Evolution of average cumulative regrets according to time')\n",
    "plt.show()"
   ],
   "metadata": {
    "collapsed": false,
    "pycharm": {
     "name": "#%%\n"
    }
   }
  },
  {
   "cell_type": "code",
   "execution_count": 32,
   "outputs": [],
   "source": [
    "T0 = 4999\n",
    "#G-ORS\n",
    "distribution_regret_gors = []\n",
    "distribution_regret_klucb = []\n",
    "for actions_ewma in actions_list_ewma:\n",
    "    distribution_regret_gors.append(np.dot(delta, np.sum(actions_ewma[:, :T0], axis=1)))\n",
    "for actions_sw in actions_list_sw:\n",
    "    distribution_regret_klucb.append(np.dot(delta, np.sum(actions_sw[:, :T0], axis=1)))"
   ],
   "metadata": {
    "collapsed": false,
    "pycharm": {
     "name": "#%%\n"
    }
   }
  },
  {
   "cell_type": "markdown",
   "source": [
    "## Boxplot of average regret"
   ],
   "metadata": {
    "collapsed": false,
    "pycharm": {
     "name": "#%% md\n"
    }
   }
  },
  {
   "cell_type": "code",
   "execution_count": 33,
   "outputs": [
    {
     "data": {
      "text/plain": "<Figure size 864x576 with 1 Axes>",
      "image/png": "[encoded data removed]"
     },
     "metadata": {
      "needs_background": "light"
     },
     "output_type": "display_data"
    }
   ],
   "source": [
    "fig=plt.figure(figsize=(12,8))\n",
    "ax = fig.add_subplot(1,1,1)\n",
    "\n",
    "ax.boxplot([\n",
    "        distribution_regret_gors,\n",
    "        distribution_regret_klucb\n",
    "    ])\n",
    "ax.set_xticklabels([\n",
    "        'EWMA',\n",
    "        'SW'\n",
    "    ])\n",
    "\n",
    "ax.set_title('Boxplot of regret when t = 5000')\n",
    "plt.show()"
   ],
   "metadata": {
    "collapsed": false,
    "pycharm": {
     "name": "#%%\n"
    }
   }
  }
 ],
 "metadata": {
  "kernelspec": {
   "display_name": "Python 3",
   "language": "python",
   "name": "python3"
  },
  "language_info": {
   "codemirror_mode": {
    "name": "ipython",
    "version": 2
   },
   "file_extension": ".py",
   "mimetype": "text/x-python",
   "name": "python",
   "nbconvert_exporter": "python",
   "pygments_lexer": "ipython2",
   "version": "2.7.6"
  }
 },
 "nbformat": 4,
 "nbformat_minor": 0
}